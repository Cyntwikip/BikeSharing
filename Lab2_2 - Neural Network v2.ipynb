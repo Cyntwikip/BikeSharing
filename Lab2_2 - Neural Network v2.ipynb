{
 "cells": [
  {
   "cell_type": "code",
   "execution_count": 1,
   "metadata": {
    "ExecuteTime": {
     "end_time": "2018-10-23T13:05:39.786534Z",
     "start_time": "2018-10-23T13:05:39.770911Z"
    }
   },
   "outputs": [],
   "source": [
    "Names = 'Titus Jungao and Jude Teves'"
   ]
  },
  {
   "cell_type": "code",
   "execution_count": 2,
   "metadata": {
    "ExecuteTime": {
     "end_time": "2018-10-23T13:05:41.240409Z",
     "start_time": "2018-10-23T13:05:39.786534Z"
    }
   },
   "outputs": [],
   "source": [
    "from sklearn.neighbors import KNeighborsRegressor\n",
    "\n",
    "import numpy as np\n",
    "import matplotlib.pyplot as plt\n",
    "import pandas as pd\n",
    "from sklearn.model_selection import train_test_split\n",
    "%matplotlib inline"
   ]
  },
  {
   "cell_type": "code",
   "execution_count": 3,
   "metadata": {
    "ExecuteTime": {
     "end_time": "2018-10-23T13:05:41.412270Z",
     "start_time": "2018-10-23T13:05:41.240409Z"
    }
   },
   "outputs": [
    {
     "name": "stderr",
     "output_type": "stream",
     "text": [
      "C:\\Anaconda\\lib\\site-packages\\pandas\\util\\_decorators.py:118: FutureWarning: The `sheetname` keyword is deprecated, use `sheet_name` instead\n",
      "  return func(*args, **kwargs)\n"
     ]
    },
    {
     "data": {
      "text/html": [
       "<div>\n",
       "<style scoped>\n",
       "    .dataframe tbody tr th:only-of-type {\n",
       "        vertical-align: middle;\n",
       "    }\n",
       "\n",
       "    .dataframe tbody tr th {\n",
       "        vertical-align: top;\n",
       "    }\n",
       "\n",
       "    .dataframe thead th {\n",
       "        text-align: right;\n",
       "    }\n",
       "</style>\n",
       "<table border=\"1\" class=\"dataframe\">\n",
       "  <thead>\n",
       "    <tr style=\"text-align: right;\">\n",
       "      <th></th>\n",
       "      <th>instant</th>\n",
       "      <th>dteday</th>\n",
       "      <th>season</th>\n",
       "      <th>yr</th>\n",
       "      <th>mnth</th>\n",
       "      <th>holiday</th>\n",
       "      <th>weekday</th>\n",
       "      <th>workingday</th>\n",
       "      <th>weathersit</th>\n",
       "      <th>temp</th>\n",
       "      <th>atemp</th>\n",
       "      <th>hum</th>\n",
       "      <th>windspeed</th>\n",
       "      <th>count</th>\n",
       "    </tr>\n",
       "  </thead>\n",
       "  <tbody>\n",
       "    <tr>\n",
       "      <th>0</th>\n",
       "      <td>1</td>\n",
       "      <td>2011-01-01</td>\n",
       "      <td>1</td>\n",
       "      <td>0</td>\n",
       "      <td>1</td>\n",
       "      <td>0</td>\n",
       "      <td>6</td>\n",
       "      <td>0</td>\n",
       "      <td>2</td>\n",
       "      <td>0.344167</td>\n",
       "      <td>0.363625</td>\n",
       "      <td>0.805833</td>\n",
       "      <td>0.160446</td>\n",
       "      <td>985</td>\n",
       "    </tr>\n",
       "    <tr>\n",
       "      <th>1</th>\n",
       "      <td>2</td>\n",
       "      <td>2011-01-02</td>\n",
       "      <td>1</td>\n",
       "      <td>0</td>\n",
       "      <td>1</td>\n",
       "      <td>0</td>\n",
       "      <td>0</td>\n",
       "      <td>0</td>\n",
       "      <td>2</td>\n",
       "      <td>0.363478</td>\n",
       "      <td>0.353739</td>\n",
       "      <td>0.696087</td>\n",
       "      <td>0.248539</td>\n",
       "      <td>801</td>\n",
       "    </tr>\n",
       "    <tr>\n",
       "      <th>2</th>\n",
       "      <td>3</td>\n",
       "      <td>2011-01-03</td>\n",
       "      <td>1</td>\n",
       "      <td>0</td>\n",
       "      <td>1</td>\n",
       "      <td>0</td>\n",
       "      <td>1</td>\n",
       "      <td>1</td>\n",
       "      <td>1</td>\n",
       "      <td>0.196364</td>\n",
       "      <td>0.189405</td>\n",
       "      <td>0.437273</td>\n",
       "      <td>0.248309</td>\n",
       "      <td>1349</td>\n",
       "    </tr>\n",
       "    <tr>\n",
       "      <th>3</th>\n",
       "      <td>4</td>\n",
       "      <td>2011-01-04</td>\n",
       "      <td>1</td>\n",
       "      <td>0</td>\n",
       "      <td>1</td>\n",
       "      <td>0</td>\n",
       "      <td>2</td>\n",
       "      <td>1</td>\n",
       "      <td>1</td>\n",
       "      <td>0.200000</td>\n",
       "      <td>0.212122</td>\n",
       "      <td>0.590435</td>\n",
       "      <td>0.160296</td>\n",
       "      <td>1562</td>\n",
       "    </tr>\n",
       "    <tr>\n",
       "      <th>4</th>\n",
       "      <td>5</td>\n",
       "      <td>2011-01-05</td>\n",
       "      <td>1</td>\n",
       "      <td>0</td>\n",
       "      <td>1</td>\n",
       "      <td>0</td>\n",
       "      <td>3</td>\n",
       "      <td>1</td>\n",
       "      <td>1</td>\n",
       "      <td>0.226957</td>\n",
       "      <td>0.229270</td>\n",
       "      <td>0.436957</td>\n",
       "      <td>0.186900</td>\n",
       "      <td>1600</td>\n",
       "    </tr>\n",
       "  </tbody>\n",
       "</table>\n",
       "</div>"
      ],
      "text/plain": [
       "   instant     dteday  season  yr  mnth  holiday  weekday  workingday  \\\n",
       "0        1 2011-01-01       1   0     1        0        6           0   \n",
       "1        2 2011-01-02       1   0     1        0        0           0   \n",
       "2        3 2011-01-03       1   0     1        0        1           1   \n",
       "3        4 2011-01-04       1   0     1        0        2           1   \n",
       "4        5 2011-01-05       1   0     1        0        3           1   \n",
       "\n",
       "   weathersit      temp     atemp       hum  windspeed  count  \n",
       "0           2  0.344167  0.363625  0.805833   0.160446    985  \n",
       "1           2  0.363478  0.353739  0.696087   0.248539    801  \n",
       "2           1  0.196364  0.189405  0.437273   0.248309   1349  \n",
       "3           1  0.200000  0.212122  0.590435   0.160296   1562  \n",
       "4           1  0.226957  0.229270  0.436957   0.186900   1600  "
      ]
     },
     "execution_count": 3,
     "metadata": {},
     "output_type": "execute_result"
    }
   ],
   "source": [
    "df_bikesharing = pd.read_excel('Bike_Sharing_day.xlsx', sheetname=\"day\")\n",
    "dummy=df_bikesharing\n",
    "dummy.head()"
   ]
  },
  {
   "cell_type": "markdown",
   "metadata": {
    "ExecuteTime": {
     "end_time": "2018-10-10T07:51:44.507596Z",
     "start_time": "2018-10-10T07:51:44.491974Z"
    }
   },
   "source": [
    "Bike Sharing dataset"
   ]
  },
  {
   "cell_type": "code",
   "execution_count": 17,
   "metadata": {
    "ExecuteTime": {
     "end_time": "2018-10-23T13:07:52.175812Z",
     "start_time": "2018-10-23T13:07:52.097686Z"
    }
   },
   "outputs": [
    {
     "name": "stderr",
     "output_type": "stream",
     "text": [
      "C:\\Anaconda\\lib\\site-packages\\sklearn\\utils\\validation.py:475: DataConversionWarning: Data with input dtype int64 was converted to float64 by StandardScaler.\n",
      "  warnings.warn(msg, DataConversionWarning)\n"
     ]
    }
   ],
   "source": [
    "from sklearn.model_selection import train_test_split\n",
    "from sklearn.preprocessing import StandardScaler, MinMaxScaler\n",
    "\n",
    "df_features=dummy.drop('count', axis=1)\n",
    "df_features=df_features.drop('instant', axis=1)\n",
    "df_features=df_features.drop('dteday', axis=1)\n",
    "len(df_features)\n",
    "df_features.head(5)\n",
    "\n",
    "X = df_features\n",
    "y = dummy['count']\n",
    "\n",
    "X_train, X_test, y_train, y_test = train_test_split(X, y, test_size=0.25, random_state=1)\n",
    "\n",
    "y_train = np.array(y_train, ndmin=2).T\n",
    "y_test = np.array(y_test, ndmin=2).T\n",
    "\n",
    "scalerX = StandardScaler()\n",
    "scalerY = StandardScaler()\n",
    "# scalerX = MinMaxScaler()\n",
    "# scalerY = MinMaxScaler()\n",
    "\n",
    "X_train = scalerX.fit_transform(X_train)\n",
    "y_train = scalerY.fit_transform(y_train)\n",
    "\n",
    "X_test = scalerX.transform(X_test)\n",
    "y_test = scalerY.transform(y_test)"
   ]
  },
  {
   "cell_type": "markdown",
   "metadata": {},
   "source": [
    "## Implement NN"
   ]
  },
  {
   "cell_type": "code",
   "execution_count": 144,
   "metadata": {
    "ExecuteTime": {
     "end_time": "2018-10-23T14:55:45.708092Z",
     "start_time": "2018-10-23T14:55:45.333117Z"
    }
   },
   "outputs": [],
   "source": [
    "from sklearn.metrics import r2_score\n",
    "\n",
    "class NN():\n",
    "    \n",
    "    def __init__(self, layers, activations, gamma):\n",
    "        self.layers = layers\n",
    "        self.activations = activations\n",
    "        self.gamma = gamma\n",
    "        self.cache = {}\n",
    "        \n",
    "        np.random.seed(42)\n",
    "        self.weights = {}\n",
    "        \n",
    "        for i in range(1,len(self.layers)):\n",
    "            #print(i)\n",
    "            self.weights['w'+str(i)] = 0.001*(2*np.random.random((self.layers[i], self.layers[i-1]))-1)\n",
    "             \n",
    "    def forward_propagation(self, X):\n",
    "        self.cache = {}\n",
    "        layer_curr = X.T\n",
    "        self.cache['a0'] = layer_curr\n",
    "        \n",
    "        for i in range(1, len(self.layers)):\n",
    "            layer_pre = self.weights['w'+str(i)].dot(layer_curr)\n",
    "            self.cache['a'+str(i)] = layer_pre\n",
    "            layer_curr = self.activations[i](layer_pre)\n",
    "            \n",
    "        #print('Forward prop final shape: ', layer_curr.shape)\n",
    "        return layer_curr\n",
    "    \n",
    "    def backward_propagation(self, error):\n",
    "        layer_error = error\n",
    "        for i in range(1, len(self.layers))[::-1]:\n",
    "            layer_curr = self.cache['a'+str(i)]\n",
    "            layer_pre = self.cache['a'+str(i-1)]\n",
    "            if i != len(self.layers)-1:\n",
    "                layer_error = self.weights['w'+str(i+1)].T.dot(layer_error)\n",
    "            layer_error = layer_error*self.activations[i](layer_curr, deriv=True)\n",
    "            self.weights['w'+str(i)] -= self.gamma * layer_error.dot(self.activations[i-1](layer_pre.T))\n",
    "            \n",
    "    def compute(self, X, y, X_test, y_test, iterations):\n",
    "        y = y.reshape(1, -1)\n",
    "        y_test = y_test.reshape(1, -1)\n",
    "        \n",
    "        error_history = []\n",
    "        error_history_test = []\n",
    "        accs_train = []\n",
    "        accs_test = []\n",
    "        \n",
    "        for i in range(iterations):\n",
    "            #test\n",
    "            y_pred = self.forward_propagation(X_test)\n",
    "            y_pred = y_pred.reshape(1, -1)\n",
    "            error = y_pred - y_test\n",
    "            error_history_test.append(np.mean(abs(error), axis=1))\n",
    "            \n",
    "            #test accuracy\n",
    "            acc = max(0,r2_score(y_pred.flatten(), y_test.flatten()))\n",
    "            accs_test.append(acc)\n",
    "\n",
    "            #train\n",
    "            y_pred = self.forward_propagation(X)\n",
    "            y_pred = y_pred.reshape(1, -1)\n",
    "            error = y_pred - y\n",
    "            error_history.append(np.mean(abs(error), axis=1))\n",
    "            \n",
    "            #train accuracy\n",
    "            acc = max(0,r2_score(y_pred.flatten(), y.flatten()))\n",
    "            accs_train.append(acc)\n",
    "            \n",
    "            self.backward_propagation(error)\n",
    "        \n",
    "        return error_history, error_history_test, accs_train, accs_test"
   ]
  },
  {
   "cell_type": "code",
   "execution_count": 145,
   "metadata": {
    "ExecuteTime": {
     "end_time": "2018-10-23T14:55:46.098690Z",
     "start_time": "2018-10-23T14:55:45.708092Z"
    }
   },
   "outputs": [],
   "source": [
    "class Activation():\n",
    "    def get(self, type):\n",
    "        if type == 'linear':\n",
    "              return self.linear\n",
    "        elif type == 'sigmoid':\n",
    "              return self.sigmoid\n",
    "        elif type == 'sine':\n",
    "              return self.sine\n",
    "        elif type == 'tanh':\n",
    "              return self.tanh\n",
    "            \n",
    "    @staticmethod\n",
    "    def linear(x, deriv=False):\n",
    "        if(deriv==True):\n",
    "            return 1\n",
    "        return x\n",
    "            \n",
    "    @staticmethod\n",
    "    def sigmoid(x, deriv=False):\n",
    "        sigmoid = 1/(1+np.exp(-x))\n",
    "        if(deriv==True):\n",
    "            return sigmoid*(1-sigmoid)\n",
    "        return sigmoid\n",
    "    \n",
    "    @staticmethod\n",
    "    def sine(x, deriv=False):\n",
    "        if(deriv==True):\n",
    "            return np.cos(x)\n",
    "        return np.sin(x)\n",
    "    \n",
    "    @staticmethod\n",
    "    def tanh(x, deriv=False):\n",
    "        if(deriv==True):\n",
    "            return 1-np.tanh(x)**2\n",
    "        return np.tanh(x)"
   ]
  },
  {
   "cell_type": "code",
   "execution_count": 146,
   "metadata": {
    "ExecuteTime": {
     "end_time": "2018-10-23T14:55:46.740055Z",
     "start_time": "2018-10-23T14:55:46.098690Z"
    }
   },
   "outputs": [],
   "source": [
    "# Activation().get('sigmoid')(X)"
   ]
  },
  {
   "cell_type": "code",
   "execution_count": 147,
   "metadata": {
    "ExecuteTime": {
     "end_time": "2018-10-23T14:55:47.130635Z",
     "start_time": "2018-10-23T14:55:46.740055Z"
    }
   },
   "outputs": [
    {
     "data": {
      "text/plain": [
       "((548, 11), (548, 1), (183, 11), (183, 1))"
      ]
     },
     "execution_count": 147,
     "metadata": {},
     "output_type": "execute_result"
    }
   ],
   "source": [
    "X_train.shape, y_train.shape, X_test.shape, y_test.shape"
   ]
  },
  {
   "cell_type": "code",
   "execution_count": 149,
   "metadata": {
    "ExecuteTime": {
     "end_time": "2018-10-23T14:55:59.888455Z",
     "start_time": "2018-10-23T14:55:56.215925Z"
    }
   },
   "outputs": [
    {
     "data": {
      "image/png": "[encoded data removed]",
      "text/plain": [
       "<Figure size 480x320 with 1 Axes>"
      ]
     },
     "metadata": {
      "needs_background": "light"
     },
     "output_type": "display_data"
    },
    {
     "name": "stdout",
     "output_type": "stream",
     "text": [
      "Max test accuracy: 87.26% | Epoch: 2940\n"
     ]
    },
    {
     "data": {
      "image/png": "[encoded data removed]",
      "text/plain": [
       "<Figure size 432x288 with 1 Axes>"
      ]
     },
     "metadata": {
      "needs_background": "light"
     },
     "output_type": "display_data"
    }
   ],
   "source": [
    "act = Activation()\n",
    "# first activation must be linear\n",
    "# activations = [act.get('sine'),act.get('sigmoid')]\n",
    "activations = [act.get('linear'),act.get('sigmoid'),act.get('linear')]\n",
    "# activations = [act.get('linear'),act.get('sigmoid'),act.get('sigmoid'),act.get('linear')]\n",
    "\n",
    "# first hidden layer is a buffer layer.\n",
    "# nn = NN((18,10,1),activations,0.001)\n",
    "nn = NN((11,6,1),activations,0.001)\n",
    "# nn = NN((11,6,6,1),activations,0.001)\n",
    "\n",
    "error_hist, error_hist_test, accs_train, accs_test = nn.compute(X_train, y_train, X_test, y_test, 4000)\n",
    "\n",
    "plt.figure(dpi=80)\n",
    "plt.plot(error_hist, label='Train loss')\n",
    "plt.plot(error_hist_test, label='Test loss')\n",
    "plt.legend()\n",
    "plt.title('Loss')\n",
    "plt.show()\n",
    "\n",
    "print('Max test accuracy: {:.2%} | Epoch: {}'.format(max(accs_train), np.argmax(accs_test)))\n",
    "plt.plot(accs_train, label='Train accuracy')\n",
    "plt.plot(accs_test, label='Test accuracy')\n",
    "plt.title('Accuracy')\n",
    "plt.show()\n"
   ]
  },
  {
   "cell_type": "code",
   "execution_count": 120,
   "metadata": {
    "ExecuteTime": {
     "end_time": "2018-10-23T13:38:08.510021Z",
     "start_time": "2018-10-23T13:38:08.494412Z"
    }
   },
   "outputs": [],
   "source": [
    "# nn.cache['a2'].shape"
   ]
  },
  {
   "cell_type": "code",
   "execution_count": 125,
   "metadata": {
    "ExecuteTime": {
     "end_time": "2018-10-23T13:40:06.247306Z",
     "start_time": "2018-10-23T13:40:06.231682Z"
    }
   },
   "outputs": [
    {
     "name": "stdout",
     "output_type": "stream",
     "text": [
      "(6, 11)\n",
      "(1, 6)\n"
     ]
    }
   ],
   "source": [
    "print(nn.weights['w1'].shape)\n",
    "print(nn.weights['w2'].shape)\n",
    "# print(nn.weights['w3'].shape)\n"
   ]
  },
  {
   "cell_type": "code",
   "execution_count": 128,
   "metadata": {
    "ExecuteTime": {
     "end_time": "2018-10-23T13:40:37.308540Z",
     "start_time": "2018-10-23T13:40:37.292911Z"
    }
   },
   "outputs": [
    {
     "data": {
      "text/plain": [
       "(183, 1)"
      ]
     },
     "execution_count": 128,
     "metadata": {},
     "output_type": "execute_result"
    }
   ],
   "source": [
    "y_test.shape"
   ]
  }
 ],
 "metadata": {
  "kernelspec": {
   "display_name": "Python [conda env:Anaconda]",
   "language": "python",
   "name": "conda-env-Anaconda-py"
  },
  "language_info": {
   "codemirror_mode": {
    "name": "ipython",
    "version": 3
   },
   "file_extension": ".py",
   "mimetype": "text/x-python",
   "name": "python",
   "nbconvert_exporter": "python",
   "pygments_lexer": "ipython3",
   "version": "3.6.4"
  },
  "toc": {
   "base_numbering": 1,
   "nav_menu": {},
   "number_sections": true,
   "sideBar": true,
   "skip_h1_title": false,
   "title_cell": "Table of Contents",
   "title_sidebar": "Contents",
   "toc_cell": false,
   "toc_position": {},
   "toc_section_display": true,
   "toc_window_display": false
  }
 },
 "nbformat": 4,
 "nbformat_minor": 2
}
