{
 "cells": [
  {
   "cell_type": "code",
   "execution_count": 1,
   "metadata": {
    "ExecuteTime": {
     "end_time": "2018-10-23T11:31:01.270701Z",
     "start_time": "2018-10-23T11:31:01.255078Z"
    }
   },
   "outputs": [],
   "source": [
    "Names = 'Titus Jungao and Jude Teves'"
   ]
  },
  {
   "cell_type": "code",
   "execution_count": 2,
   "metadata": {
    "ExecuteTime": {
     "end_time": "2018-10-23T11:32:01.812175Z",
     "start_time": "2018-10-23T11:31:01.645709Z"
    }
   },
   "outputs": [],
   "source": [
    "from sklearn.neighbors import KNeighborsRegressor\n",
    "\n",
    "import numpy as np\n",
    "import matplotlib.pyplot as plt\n",
    "import pandas as pd\n",
    "from sklearn.model_selection import train_test_split\n",
    "%matplotlib inline"
   ]
  },
  {
   "cell_type": "code",
   "execution_count": 3,
   "metadata": {
    "ExecuteTime": {
     "end_time": "2018-10-23T11:32:04.249973Z",
     "start_time": "2018-10-23T11:32:01.812175Z"
    }
   },
   "outputs": [
    {
     "name": "stderr",
     "output_type": "stream",
     "text": [
      "C:\\Anaconda\\lib\\site-packages\\pandas\\util\\_decorators.py:118: FutureWarning: The `sheetname` keyword is deprecated, use `sheet_name` instead\n",
      "  return func(*args, **kwargs)\n"
     ]
    },
    {
     "data": {
      "text/html": [
       "<div>\n",
       "<style scoped>\n",
       "    .dataframe tbody tr th:only-of-type {\n",
       "        vertical-align: middle;\n",
       "    }\n",
       "\n",
       "    .dataframe tbody tr th {\n",
       "        vertical-align: top;\n",
       "    }\n",
       "\n",
       "    .dataframe thead th {\n",
       "        text-align: right;\n",
       "    }\n",
       "</style>\n",
       "<table border=\"1\" class=\"dataframe\">\n",
       "  <thead>\n",
       "    <tr style=\"text-align: right;\">\n",
       "      <th></th>\n",
       "      <th>instant</th>\n",
       "      <th>dteday</th>\n",
       "      <th>season</th>\n",
       "      <th>yr</th>\n",
       "      <th>mnth</th>\n",
       "      <th>holiday</th>\n",
       "      <th>weekday</th>\n",
       "      <th>workingday</th>\n",
       "      <th>weathersit</th>\n",
       "      <th>temp</th>\n",
       "      <th>atemp</th>\n",
       "      <th>hum</th>\n",
       "      <th>windspeed</th>\n",
       "      <th>count</th>\n",
       "    </tr>\n",
       "  </thead>\n",
       "  <tbody>\n",
       "    <tr>\n",
       "      <th>0</th>\n",
       "      <td>1</td>\n",
       "      <td>2011-01-01</td>\n",
       "      <td>1</td>\n",
       "      <td>0</td>\n",
       "      <td>1</td>\n",
       "      <td>0</td>\n",
       "      <td>6</td>\n",
       "      <td>0</td>\n",
       "      <td>2</td>\n",
       "      <td>0.344167</td>\n",
       "      <td>0.363625</td>\n",
       "      <td>0.805833</td>\n",
       "      <td>0.160446</td>\n",
       "      <td>985</td>\n",
       "    </tr>\n",
       "    <tr>\n",
       "      <th>1</th>\n",
       "      <td>2</td>\n",
       "      <td>2011-01-02</td>\n",
       "      <td>1</td>\n",
       "      <td>0</td>\n",
       "      <td>1</td>\n",
       "      <td>0</td>\n",
       "      <td>0</td>\n",
       "      <td>0</td>\n",
       "      <td>2</td>\n",
       "      <td>0.363478</td>\n",
       "      <td>0.353739</td>\n",
       "      <td>0.696087</td>\n",
       "      <td>0.248539</td>\n",
       "      <td>801</td>\n",
       "    </tr>\n",
       "    <tr>\n",
       "      <th>2</th>\n",
       "      <td>3</td>\n",
       "      <td>2011-01-03</td>\n",
       "      <td>1</td>\n",
       "      <td>0</td>\n",
       "      <td>1</td>\n",
       "      <td>0</td>\n",
       "      <td>1</td>\n",
       "      <td>1</td>\n",
       "      <td>1</td>\n",
       "      <td>0.196364</td>\n",
       "      <td>0.189405</td>\n",
       "      <td>0.437273</td>\n",
       "      <td>0.248309</td>\n",
       "      <td>1349</td>\n",
       "    </tr>\n",
       "    <tr>\n",
       "      <th>3</th>\n",
       "      <td>4</td>\n",
       "      <td>2011-01-04</td>\n",
       "      <td>1</td>\n",
       "      <td>0</td>\n",
       "      <td>1</td>\n",
       "      <td>0</td>\n",
       "      <td>2</td>\n",
       "      <td>1</td>\n",
       "      <td>1</td>\n",
       "      <td>0.200000</td>\n",
       "      <td>0.212122</td>\n",
       "      <td>0.590435</td>\n",
       "      <td>0.160296</td>\n",
       "      <td>1562</td>\n",
       "    </tr>\n",
       "    <tr>\n",
       "      <th>4</th>\n",
       "      <td>5</td>\n",
       "      <td>2011-01-05</td>\n",
       "      <td>1</td>\n",
       "      <td>0</td>\n",
       "      <td>1</td>\n",
       "      <td>0</td>\n",
       "      <td>3</td>\n",
       "      <td>1</td>\n",
       "      <td>1</td>\n",
       "      <td>0.226957</td>\n",
       "      <td>0.229270</td>\n",
       "      <td>0.436957</td>\n",
       "      <td>0.186900</td>\n",
       "      <td>1600</td>\n",
       "    </tr>\n",
       "  </tbody>\n",
       "</table>\n",
       "</div>"
      ],
      "text/plain": [
       "   instant     dteday  season  yr  mnth  holiday  weekday  workingday  \\\n",
       "0        1 2011-01-01       1   0     1        0        6           0   \n",
       "1        2 2011-01-02       1   0     1        0        0           0   \n",
       "2        3 2011-01-03       1   0     1        0        1           1   \n",
       "3        4 2011-01-04       1   0     1        0        2           1   \n",
       "4        5 2011-01-05       1   0     1        0        3           1   \n",
       "\n",
       "   weathersit      temp     atemp       hum  windspeed  count  \n",
       "0           2  0.344167  0.363625  0.805833   0.160446    985  \n",
       "1           2  0.363478  0.353739  0.696087   0.248539    801  \n",
       "2           1  0.196364  0.189405  0.437273   0.248309   1349  \n",
       "3           1  0.200000  0.212122  0.590435   0.160296   1562  \n",
       "4           1  0.226957  0.229270  0.436957   0.186900   1600  "
      ]
     },
     "execution_count": 3,
     "metadata": {},
     "output_type": "execute_result"
    }
   ],
   "source": [
    "df_bikesharing = pd.read_excel('Bike_Sharing_day.xlsx', sheetname=\"day\")\n",
    "dummy=df_bikesharing\n",
    "dummy.head()"
   ]
  },
  {
   "cell_type": "code",
   "execution_count": null,
   "metadata": {},
   "outputs": [],
   "source": []
  },
  {
   "cell_type": "code",
   "execution_count": 4,
   "metadata": {
    "ExecuteTime": {
     "end_time": "2018-10-23T11:32:04.937426Z",
     "start_time": "2018-10-23T11:32:04.249973Z"
    }
   },
   "outputs": [
    {
     "name": "stderr",
     "output_type": "stream",
     "text": [
      "C:\\Anaconda\\lib\\site-packages\\pandas\\util\\_decorators.py:118: FutureWarning: The `sheetname` keyword is deprecated, use `sheet_name` instead\n",
      "  return func(*args, **kwargs)\n"
     ]
    },
    {
     "data": {
      "text/html": [
       "<div>\n",
       "<style scoped>\n",
       "    .dataframe tbody tr th:only-of-type {\n",
       "        vertical-align: middle;\n",
       "    }\n",
       "\n",
       "    .dataframe tbody tr th {\n",
       "        vertical-align: top;\n",
       "    }\n",
       "\n",
       "    .dataframe thead th {\n",
       "        text-align: right;\n",
       "    }\n",
       "</style>\n",
       "<table border=\"1\" class=\"dataframe\">\n",
       "  <thead>\n",
       "    <tr style=\"text-align: right;\">\n",
       "      <th></th>\n",
       "      <th>Batch</th>\n",
       "      <th>Eng7</th>\n",
       "      <th>Eng8</th>\n",
       "      <th>Eng9</th>\n",
       "      <th>Math7</th>\n",
       "      <th>Math8</th>\n",
       "      <th>Math9</th>\n",
       "      <th>Sci7</th>\n",
       "      <th>Sci8</th>\n",
       "      <th>Sci9</th>\n",
       "      <th>GWA7</th>\n",
       "      <th>GWA8</th>\n",
       "      <th>GWA9</th>\n",
       "      <th>UP</th>\n",
       "      <th>IQ</th>\n",
       "      <th>SA</th>\n",
       "      <th>C1</th>\n",
       "      <th>C2</th>\n",
       "      <th>Target</th>\n",
       "    </tr>\n",
       "  </thead>\n",
       "  <tbody>\n",
       "    <tr>\n",
       "      <th>0</th>\n",
       "      <td>2005</td>\n",
       "      <td>77</td>\n",
       "      <td>82.0</td>\n",
       "      <td>86</td>\n",
       "      <td>94</td>\n",
       "      <td>87</td>\n",
       "      <td>92.0</td>\n",
       "      <td>84</td>\n",
       "      <td>80</td>\n",
       "      <td>92</td>\n",
       "      <td>1.4764</td>\n",
       "      <td>1.5045</td>\n",
       "      <td>1.4098</td>\n",
       "      <td>1</td>\n",
       "      <td>55.0</td>\n",
       "      <td>28</td>\n",
       "      <td>1</td>\n",
       "      <td>4.0</td>\n",
       "      <td>1</td>\n",
       "    </tr>\n",
       "    <tr>\n",
       "      <th>1</th>\n",
       "      <td>2005</td>\n",
       "      <td>57</td>\n",
       "      <td>57.0</td>\n",
       "      <td>59</td>\n",
       "      <td>55</td>\n",
       "      <td>46</td>\n",
       "      <td>57.0</td>\n",
       "      <td>53</td>\n",
       "      <td>45</td>\n",
       "      <td>53</td>\n",
       "      <td>2.6557</td>\n",
       "      <td>2.7000</td>\n",
       "      <td>2.7008</td>\n",
       "      <td>1</td>\n",
       "      <td>38.0</td>\n",
       "      <td>19</td>\n",
       "      <td>5</td>\n",
       "      <td>3.0</td>\n",
       "      <td>0</td>\n",
       "    </tr>\n",
       "    <tr>\n",
       "      <th>2</th>\n",
       "      <td>2005</td>\n",
       "      <td>55</td>\n",
       "      <td>52.0</td>\n",
       "      <td>55</td>\n",
       "      <td>57</td>\n",
       "      <td>53</td>\n",
       "      <td>51.0</td>\n",
       "      <td>57</td>\n",
       "      <td>62</td>\n",
       "      <td>51</td>\n",
       "      <td>2.6132</td>\n",
       "      <td>2.6818</td>\n",
       "      <td>2.7172</td>\n",
       "      <td>0</td>\n",
       "      <td>17.0</td>\n",
       "      <td>9</td>\n",
       "      <td>5</td>\n",
       "      <td>6.0</td>\n",
       "      <td>0</td>\n",
       "    </tr>\n",
       "    <tr>\n",
       "      <th>3</th>\n",
       "      <td>2005</td>\n",
       "      <td>69</td>\n",
       "      <td>78.0</td>\n",
       "      <td>78</td>\n",
       "      <td>87</td>\n",
       "      <td>79</td>\n",
       "      <td>79.0</td>\n",
       "      <td>83</td>\n",
       "      <td>82</td>\n",
       "      <td>79</td>\n",
       "      <td>1.7217</td>\n",
       "      <td>1.6136</td>\n",
       "      <td>1.7049</td>\n",
       "      <td>1</td>\n",
       "      <td>45.0</td>\n",
       "      <td>28</td>\n",
       "      <td>1</td>\n",
       "      <td>4.0</td>\n",
       "      <td>0</td>\n",
       "    </tr>\n",
       "    <tr>\n",
       "      <th>4</th>\n",
       "      <td>2005</td>\n",
       "      <td>64</td>\n",
       "      <td>71.0</td>\n",
       "      <td>68</td>\n",
       "      <td>71</td>\n",
       "      <td>57</td>\n",
       "      <td>54.0</td>\n",
       "      <td>60</td>\n",
       "      <td>59</td>\n",
       "      <td>55</td>\n",
       "      <td>2.4245</td>\n",
       "      <td>2.4318</td>\n",
       "      <td>2.4713</td>\n",
       "      <td>1</td>\n",
       "      <td>67.0</td>\n",
       "      <td>56</td>\n",
       "      <td>1</td>\n",
       "      <td>5.0</td>\n",
       "      <td>0</td>\n",
       "    </tr>\n",
       "  </tbody>\n",
       "</table>\n",
       "</div>"
      ],
      "text/plain": [
       "   Batch  Eng7  Eng8  Eng9  Math7  Math8  Math9  Sci7  Sci8  Sci9    GWA7  \\\n",
       "0   2005    77  82.0    86     94     87   92.0    84    80    92  1.4764   \n",
       "1   2005    57  57.0    59     55     46   57.0    53    45    53  2.6557   \n",
       "2   2005    55  52.0    55     57     53   51.0    57    62    51  2.6132   \n",
       "3   2005    69  78.0    78     87     79   79.0    83    82    79  1.7217   \n",
       "4   2005    64  71.0    68     71     57   54.0    60    59    55  2.4245   \n",
       "\n",
       "     GWA8    GWA9  UP    IQ  SA  C1   C2  Target  \n",
       "0  1.5045  1.4098   1  55.0  28   1  4.0       1  \n",
       "1  2.7000  2.7008   1  38.0  19   5  3.0       0  \n",
       "2  2.6818  2.7172   0  17.0   9   5  6.0       0  \n",
       "3  1.6136  1.7049   1  45.0  28   1  4.0       0  \n",
       "4  2.4318  2.4713   1  67.0  56   1  5.0       0  "
      ]
     },
     "execution_count": 4,
     "metadata": {},
     "output_type": "execute_result"
    }
   ],
   "source": [
    "df_UPCAT = pd.read_excel('UPCAT_DATA2.xlsx', sheetname='AllData')\n",
    "dummy = df_UPCAT\n",
    "dummy.head()"
   ]
  },
  {
   "cell_type": "code",
   "execution_count": 5,
   "metadata": {
    "ExecuteTime": {
     "end_time": "2018-10-23T11:32:04.984307Z",
     "start_time": "2018-10-23T11:32:04.937426Z"
    }
   },
   "outputs": [],
   "source": [
    "feature_names = ['Eng7', 'Eng8', 'Eng9', 'Math7', 'Math8', 'Math9', 'Sci7',\n",
    "       'Sci8', 'Sci9', 'GWA7', 'GWA8', 'GWA9', 'UP', 'IQ', 'SA', 'C1', 'C2']\n",
    "\n",
    "X = df_UPCAT[feature_names]\n",
    "y = df_UPCAT['Target']\n",
    "X.insert(loc=0, column='biased', value=1.0)"
   ]
  },
  {
   "cell_type": "code",
   "execution_count": 6,
   "metadata": {
    "ExecuteTime": {
     "end_time": "2018-10-23T11:32:05.171808Z",
     "start_time": "2018-10-23T11:32:04.984307Z"
    }
   },
   "outputs": [
    {
     "data": {
      "text/plain": [
       "biased    0\n",
       "Eng7      0\n",
       "Eng8      0\n",
       "Eng9      0\n",
       "Math7     0\n",
       "Math8     0\n",
       "Math9     0\n",
       "Sci7      0\n",
       "Sci8      0\n",
       "Sci9      0\n",
       "GWA7      0\n",
       "GWA8      0\n",
       "GWA9      0\n",
       "UP        0\n",
       "IQ        0\n",
       "SA        0\n",
       "C1        0\n",
       "C2        0\n",
       "dtype: int64"
      ]
     },
     "execution_count": 6,
     "metadata": {},
     "output_type": "execute_result"
    }
   ],
   "source": [
    "from sklearn.base import TransformerMixin\n",
    "\n",
    "class DataFrameImputer(TransformerMixin):\n",
    "\n",
    "    def __init__(self):\n",
    "        \"\"\"Impute missing values.\n",
    "\n",
    "        Columns of dtype object are imputed with the most frequent value \n",
    "        in column.\n",
    "\n",
    "        Columns of other types are imputed with mean of column.\n",
    "\n",
    "        \"\"\"\n",
    "    def fit(self, X, y=None):\n",
    "\n",
    "        self.fill = pd.Series([X[c].value_counts().index[0]\n",
    "            if X[c].dtype == np.dtype('O') else X[c].mean() for c in X],\n",
    "            index=X.columns)\n",
    "\n",
    "        return self\n",
    "\n",
    "    def transform(self, X, y=None):\n",
    "        return X.fillna(self.fill)\n",
    "\n",
    "\n",
    "\n",
    "X_transition = pd.DataFrame(X)\n",
    "X_clean = DataFrameImputer().fit_transform(X_transition)\n",
    "\n",
    "X_clean.isnull().sum()"
   ]
  },
  {
   "cell_type": "markdown",
   "metadata": {},
   "source": [
    "UPCAT dataset"
   ]
  },
  {
   "cell_type": "code",
   "execution_count": 7,
   "metadata": {
    "ExecuteTime": {
     "end_time": "2018-10-23T11:32:05.468654Z",
     "start_time": "2018-10-23T11:32:05.171808Z"
    }
   },
   "outputs": [],
   "source": [
    "from sklearn.preprocessing import MinMaxScaler\n",
    "sscaler = MinMaxScaler()\n",
    "X = sscaler.fit_transform(X_clean)\n",
    "\n",
    "from sklearn.model_selection import train_test_split\n",
    "X_train, X_test, y_train, y_test = train_test_split(X, y, test_size=0.25, random_state=42)\n",
    "\n",
    "y_train = np.array(y_train, ndmin=2).T"
   ]
  },
  {
   "cell_type": "markdown",
   "metadata": {
    "ExecuteTime": {
     "end_time": "2018-10-10T07:51:44.507596Z",
     "start_time": "2018-10-10T07:51:44.491974Z"
    }
   },
   "source": [
    "Bike Sharing dataset"
   ]
  },
  {
   "cell_type": "code",
   "execution_count": 4,
   "metadata": {
    "ExecuteTime": {
     "end_time": "2018-10-10T07:53:21.635411Z",
     "start_time": "2018-10-10T07:53:21.150948Z"
    }
   },
   "outputs": [
    {
     "name": "stderr",
     "output_type": "stream",
     "text": [
      "C:\\Anaconda\\lib\\site-packages\\sklearn\\utils\\validation.py:475: DataConversionWarning: Data with input dtype int64 was converted to float64 by StandardScaler.\n",
      "  warnings.warn(msg, DataConversionWarning)\n"
     ]
    }
   ],
   "source": [
    "from sklearn.model_selection import train_test_split\n",
    "from sklearn.preprocessing import StandardScaler, MinMaxScaler\n",
    "\n",
    "df_features=dummy.drop('count', axis=1)\n",
    "df_features=df_features.drop('instant', axis=1)\n",
    "df_features=df_features.drop('dteday', axis=1)\n",
    "len(df_features)\n",
    "df_features.head(5)\n",
    "\n",
    "X = df_features\n",
    "y = dummy['count']\n",
    "\n",
    "X_train, X_test, y_train, y_test = train_test_split(X, y, test_size=0.25, random_state=1)\n",
    "\n",
    "y_train = np.array(y_train, ndmin=2).T\n",
    "y_test = np.array(y_test, ndmin=2).T\n",
    "\n",
    "scalerX = StandardScaler()\n",
    "scalerY = StandardScaler()\n",
    "# scalerX = MinMaxScaler()\n",
    "# scalerY = MinMaxScaler()\n",
    "\n",
    "X_train = scalerX.fit_transform(X_train)\n",
    "y_train = scalerY.fit_transform(y_train)\n",
    "\n",
    "X_test = scalerX.transform(X_test)\n",
    "y_test = scalerY.transform(y_test)"
   ]
  },
  {
   "cell_type": "markdown",
   "metadata": {},
   "source": [
    "## Implement NN"
   ]
  },
  {
   "cell_type": "code",
   "execution_count": 22,
   "metadata": {
    "ExecuteTime": {
     "end_time": "2018-10-23T11:39:10.181698Z",
     "start_time": "2018-10-23T11:39:09.915962Z"
    }
   },
   "outputs": [],
   "source": [
    "from sklearn.metrics import r2_score\n",
    "\n",
    "class NN():\n",
    "    \n",
    "    def __init__(self, layers, activations, gamma):\n",
    "        self.layers = layers\n",
    "        self.activations = activations\n",
    "        self.gamma = gamma\n",
    "        self.cache = {}\n",
    "        \n",
    "        np.random.seed(42)\n",
    "        self.weights = {}\n",
    "        \n",
    "        for i in range(1,len(self.layers)):\n",
    "            self.weights['w'+str(i)] = np.random.random((self.layers[i], self.layers[i-1]))\n",
    "             \n",
    "    def forward_propagation(self, X):\n",
    "        self.cache = {}\n",
    "        layer_curr = X.T\n",
    "        self.cache['a0'] = layer_curr\n",
    "        \n",
    "        for i in range(1, len(self.layers)):\n",
    "            layer_pre = self.weights['w'+str(i)].dot(layer_curr)\n",
    "            self.cache['a'+str(i)] = layer_pre\n",
    "            layer_curr = self.activations[i](layer_pre)\n",
    "            \n",
    "        #print('Forward prop final shape: ', layer_curr.shape)\n",
    "        return layer_curr\n",
    "    \n",
    "    def backward_propagation(self, error):\n",
    "        layer_error = error\n",
    "        for i in range(1, len(self.layers))[::-1]:\n",
    "            layer_curr = self.cache['a'+str(i)]\n",
    "            layer_pre = self.cache['a'+str(i-1)]\n",
    "            if i != len(self.layers)-1:\n",
    "                layer_error = self.weights['w'+str(i+1)].T.dot(layer_error)\n",
    "            #print(layer_error.shape)\n",
    "            layer_error = layer_error*self.activations[i](layer_curr, deriv=True)\n",
    "            #self.weights['w'+str(i)] -= self.gamma * layer_pre_error.dot(layer_pre.T)\n",
    "            #print(layer_error.shape, layer_curr.shape, layer_pre_error.shape, layer_pre.shape)\n",
    "            self.weights['w'+str(i)] -= self.gamma * layer_error.dot(self.activations[i-1](layer_pre.T))\n",
    "            \n",
    "    def compute(self, X, y, iterations):\n",
    "        y = y.reshape(1, -1)\n",
    "        error_history = []\n",
    "        for i in range(iterations):\n",
    "            y_pred = self.forward_propagation(X)\n",
    "            y_pred = y_pred.reshape(1, -1)\n",
    "            #print(y_pred.shape)\n",
    "            #error = np.abs(y_pred - y).mean()\n",
    "            error = y_pred - y\n",
    "            #print('Error shape: ', error.shape)            \n",
    "            error_history.append(np.mean(abs(error), axis=1))\n",
    "            #error_history.append(r2_score(y_pred, y))\n",
    "            #error_history.append(error)\n",
    "            \n",
    "            self.backward_propagation(error)\n",
    "        \n",
    "        return error_history"
   ]
  },
  {
   "cell_type": "code",
   "execution_count": 23,
   "metadata": {
    "ExecuteTime": {
     "end_time": "2018-10-23T11:39:10.416045Z",
     "start_time": "2018-10-23T11:39:10.181698Z"
    }
   },
   "outputs": [],
   "source": [
    "class Activation():\n",
    "    def get(self, type):\n",
    "        if type == 'linear':\n",
    "              return self.linear\n",
    "        elif type == 'sigmoid':\n",
    "              return self.sigmoid\n",
    "        elif type == 'sine':\n",
    "              return self.sine\n",
    "        elif type == 'tanh':\n",
    "              return self.tanh\n",
    "            \n",
    "    @staticmethod\n",
    "    def linear(x, deriv=False):\n",
    "        if(deriv==True):\n",
    "            return 1\n",
    "        return x\n",
    "            \n",
    "    @staticmethod\n",
    "    def sigmoid(x, deriv=False):\n",
    "        sigmoid = 1/(1+np.exp(-x))\n",
    "        if(deriv==True):\n",
    "            return sigmoid*(1-sigmoid)\n",
    "        return sigmoid\n",
    "    \n",
    "    @staticmethod\n",
    "    def sine(x, deriv=False):\n",
    "        if(deriv==True):\n",
    "            return np.cos(x)\n",
    "        return np.sin(x)\n",
    "    \n",
    "    @staticmethod\n",
    "    def tanh(x, deriv=False):\n",
    "        if(deriv==True):\n",
    "            return 1-np.tanh(x)**2\n",
    "        return np.tanh(x)"
   ]
  },
  {
   "cell_type": "code",
   "execution_count": 24,
   "metadata": {
    "ExecuteTime": {
     "end_time": "2018-10-23T11:39:10.681721Z",
     "start_time": "2018-10-23T11:39:10.587917Z"
    }
   },
   "outputs": [],
   "source": [
    "# Activation().get('sigmoid')(X)"
   ]
  },
  {
   "cell_type": "code",
   "execution_count": 25,
   "metadata": {
    "ExecuteTime": {
     "end_time": "2018-10-23T11:39:10.947260Z",
     "start_time": "2018-10-23T11:39:10.837891Z"
    }
   },
   "outputs": [
    {
     "data": {
      "text/plain": [
       "((757, 18), (757, 1), (253, 18), (253,))"
      ]
     },
     "execution_count": 25,
     "metadata": {},
     "output_type": "execute_result"
    }
   ],
   "source": [
    "X_train.shape, y_train.shape, X_test.shape, y_test.shape"
   ]
  },
  {
   "cell_type": "code",
   "execution_count": 40,
   "metadata": {
    "ExecuteTime": {
     "end_time": "2018-10-23T11:42:31.574361Z",
     "start_time": "2018-10-23T11:42:29.339857Z"
    }
   },
   "outputs": [
    {
     "data": {
      "text/plain": [
       "[<matplotlib.lines.Line2D at 0x276e3e9f518>]"
      ]
     },
     "execution_count": 40,
     "metadata": {},
     "output_type": "execute_result"
    },
    {
     "data": {
      "image/png": "[encoded data removed]",
      "text/plain": [
       "<Figure size 432x288 with 1 Axes>"
      ]
     },
     "metadata": {
      "needs_background": "light"
     },
     "output_type": "display_data"
    }
   ],
   "source": [
    "act = Activation()\n",
    "activations = [act.get('linear'),act.get('sine'),act.get('sigmoid')]\n",
    "# activations = [act.get('linear'),act.get('sigmoid'),act.get('linear')]\n",
    "\n",
    "nn = NN((18,10,1),activations,0.001)\n",
    "# nn = NN((11,6,1),activations,0.001)\n",
    "\n",
    "\n",
    "error_hist = nn.compute(X_train, y_train, 3000)\n",
    "plt.plot(error_hist)"
   ]
  },
  {
   "cell_type": "code",
   "execution_count": 41,
   "metadata": {
    "ExecuteTime": {
     "end_time": "2018-10-23T11:42:32.152598Z",
     "start_time": "2018-10-23T11:42:32.121400Z"
    }
   },
   "outputs": [
    {
     "data": {
      "text/plain": [
       "(1, 757)"
      ]
     },
     "execution_count": 41,
     "metadata": {},
     "output_type": "execute_result"
    }
   ],
   "source": [
    "nn.cache['a2'].shape"
   ]
  },
  {
   "cell_type": "code",
   "execution_count": null,
   "metadata": {},
   "outputs": [],
   "source": []
  },
  {
   "cell_type": "code",
   "execution_count": null,
   "metadata": {},
   "outputs": [],
   "source": []
  }
 ],
 "metadata": {
  "kernelspec": {
   "display_name": "Python [conda env:Anaconda]",
   "language": "python",
   "name": "conda-env-Anaconda-py"
  },
  "language_info": {
   "codemirror_mode": {
    "name": "ipython",
    "version": 3
   },
   "file_extension": ".py",
   "mimetype": "text/x-python",
   "name": "python",
   "nbconvert_exporter": "python",
   "pygments_lexer": "ipython3",
   "version": "3.6.4"
  },
  "toc": {
   "base_numbering": 1,
   "nav_menu": {},
   "number_sections": true,
   "sideBar": true,
   "skip_h1_title": false,
   "title_cell": "Table of Contents",
   "title_sidebar": "Contents",
   "toc_cell": false,
   "toc_position": {},
   "toc_section_display": true,
   "toc_window_display": false
  }
 },
 "nbformat": 4,
 "nbformat_minor": 2
}
