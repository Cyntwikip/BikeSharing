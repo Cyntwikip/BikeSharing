{
 "cells": [
  {
   "cell_type": "code",
   "execution_count": 51,
   "metadata": {
    "ExecuteTime": {
     "end_time": "2018-10-10T05:50:38.026895Z",
     "start_time": "2018-10-10T05:50:38.011901Z"
    }
   },
   "outputs": [],
   "source": [
    "\n",
    "class Student():\n",
    "    \n",
    "    def __init__(self, age, gender, program, name):\n",
    "        self.age = age\n",
    "        self.gender = gender\n",
    "        self.program = program\n",
    "        self.name = name\n",
    "\n",
    "    def sleep(self):\n",
    "        return 'sleep is for the strong'\n",
    "    \n",
    "    def introduce(self):\n",
    "        return 'I am {} from the {} program'.format(self.name, self.program)\n",
    "    \n",
    "    def change_program(self, program):\n",
    "        self.program = program"
   ]
  },
  {
   "cell_type": "code",
   "execution_count": 53,
   "metadata": {
    "ExecuteTime": {
     "end_time": "2018-10-10T05:51:34.326465Z",
     "start_time": "2018-10-10T05:51:34.307478Z"
    }
   },
   "outputs": [],
   "source": [
    "import random\n",
    "import numpy as np\n",
    "\n",
    "# jude = Student(22, 'male', 'MSDS')\n",
    "# titus = Student(26, 'male', 'MSDS')\n",
    "# john = Student(23, 'male', 'MSDS')\n",
    "\n",
    "students = []\n",
    "for i in range(500):\n",
    "    gender = random.choice(['male', 'female'])\n",
    "    program = random.choice(['MSDS', 'MSIB', 'ME'])\n",
    "    age = np.random.randint(12,55)\n",
    "    name = random.choice(['jude', 'titus', 'john', 'shehab', 'adrian'])\n",
    "    students.append(Student(age, gender, program, name))\n",
    "\n"
   ]
  },
  {
   "cell_type": "code",
   "execution_count": 47,
   "metadata": {
    "ExecuteTime": {
     "end_time": "2018-10-10T05:47:58.651414Z",
     "start_time": "2018-10-10T05:47:58.644418Z"
    }
   },
   "outputs": [
    {
     "data": {
      "text/plain": [
       "22"
      ]
     },
     "execution_count": 47,
     "metadata": {},
     "output_type": "execute_result"
    }
   ],
   "source": [
    "jude.age"
   ]
  },
  {
   "cell_type": "code",
   "execution_count": 48,
   "metadata": {
    "ExecuteTime": {
     "end_time": "2018-10-10T05:47:59.065325Z",
     "start_time": "2018-10-10T05:47:59.061326Z"
    }
   },
   "outputs": [
    {
     "data": {
      "text/plain": [
       "'sleep is for the strong'"
      ]
     },
     "execution_count": 48,
     "metadata": {},
     "output_type": "execute_result"
    }
   ],
   "source": [
    "jude.sleep()"
   ]
  },
  {
   "cell_type": "code",
   "execution_count": 50,
   "metadata": {
    "ExecuteTime": {
     "end_time": "2018-10-10T05:48:24.859758Z",
     "start_time": "2018-10-10T05:48:24.853780Z"
    }
   },
   "outputs": [
    {
     "data": {
      "text/plain": [
       "'I am adrian from the MSIB program'"
      ]
     },
     "execution_count": 50,
     "metadata": {},
     "output_type": "execute_result"
    }
   ],
   "source": [
    "students[102].introduce()"
   ]
  },
  {
   "cell_type": "code",
   "execution_count": 54,
   "metadata": {
    "ExecuteTime": {
     "end_time": "2018-10-10T05:51:46.225684Z",
     "start_time": "2018-10-10T05:51:46.218693Z"
    }
   },
   "outputs": [
    {
     "data": {
      "text/plain": [
       "'I am titus from the MSIB program'"
      ]
     },
     "execution_count": 54,
     "metadata": {},
     "output_type": "execute_result"
    }
   ],
   "source": [
    "students[42].introduce()"
   ]
  },
  {
   "cell_type": "code",
   "execution_count": 55,
   "metadata": {
    "ExecuteTime": {
     "end_time": "2018-10-10T05:52:05.276516Z",
     "start_time": "2018-10-10T05:52:05.269521Z"
    }
   },
   "outputs": [
    {
     "data": {
      "text/plain": [
       "'I am titus from the MSDS program'"
      ]
     },
     "execution_count": 55,
     "metadata": {},
     "output_type": "execute_result"
    }
   ],
   "source": [
    "students[42].change_program('MSDS')\n",
    "students[42].introduce()"
   ]
  },
  {
   "cell_type": "code",
   "execution_count": null,
   "metadata": {},
   "outputs": [],
   "source": []
  },
  {
   "cell_type": "code",
   "execution_count": 56,
   "metadata": {
    "ExecuteTime": {
     "end_time": "2018-10-10T05:56:10.822058Z",
     "start_time": "2018-10-10T05:56:08.556290Z"
    }
   },
   "outputs": [
    {
     "data": {
      "text/plain": [
       "array([[0.32 , 0.25 ],\n",
       "       [0.321, 0.75 ]])"
      ]
     },
     "execution_count": 56,
     "metadata": {},
     "output_type": "execute_result"
    }
   ],
   "source": [
    "arr1 = np.array([[0,1,0],[1,1,0]])\n",
    "arr2 = np.array([[0.001,0.5],[0.32,0.25],[0.2,0.01]])\n",
    "\n",
    "arr1.dot(arr2)"
   ]
  },
  {
   "cell_type": "code",
   "execution_count": null,
   "metadata": {},
   "outputs": [],
   "source": []
  },
  {
   "cell_type": "code",
   "execution_count": null,
   "metadata": {},
   "outputs": [],
   "source": []
  },
  {
   "cell_type": "code",
   "execution_count": null,
   "metadata": {},
   "outputs": [],
   "source": []
  }
 ],
 "metadata": {
  "kernelspec": {
   "display_name": "Python [conda env:Anaconda]",
   "language": "python",
   "name": "conda-env-Anaconda-py"
  },
  "language_info": {
   "codemirror_mode": {
    "name": "ipython",
    "version": 3
   },
   "file_extension": ".py",
   "mimetype": "text/x-python",
   "name": "python",
   "nbconvert_exporter": "python",
   "pygments_lexer": "ipython3",
   "version": "3.6.4"
  },
  "toc": {
   "base_numbering": 1,
   "nav_menu": {},
   "number_sections": true,
   "sideBar": true,
   "skip_h1_title": false,
   "title_cell": "Table of Contents",
   "title_sidebar": "Contents",
   "toc_cell": false,
   "toc_position": {},
   "toc_section_display": true,
   "toc_window_display": false
  }
 },
 "nbformat": 4,
 "nbformat_minor": 2
}
